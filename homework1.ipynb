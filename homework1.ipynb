{
 "cells": [
  {
   "cell_type": "code",
   "execution_count": 16,
   "id": "6e145592",
   "metadata": {
    "scrolled": true
   },
   "outputs": [
    {
     "name": "stdout",
     "output_type": "stream",
     "text": [
      "\n",
      "I am not a piece of plastic\n",
      "     wandering in the nightmarket\n",
      "          I rather run in the rain\n",
      "                go cleaning up the brain\n",
      "\n",
      "I am not a legal weeds\n",
      "     swimming in the sea\n",
      "          I rather move out of the city\n",
      "                go calling friends\n",
      "\n",
      "I am not a piece of plastic\n",
      "     swimming in the sea\n",
      "          I rather stay alone at home\n",
      "                go for a cup of flower tea\n",
      "\n",
      "I am not a machine\n",
      "     wandering in the nightmarket\n",
      "          I rather stay alone at home\n",
      "                go for a cup of flower tea\n",
      "\n",
      "I am not a piece of plastic\n",
      "     waiting in a deserted airport\n",
      "          I rather hold my breath\n",
      "                go taking a cold shower\n"
     ]
    }
   ],
   "source": [
    "import random\n",
    "\n",
    "materials = [\n",
    "    'a machine',\n",
    "    'a puppet',\n",
    "    'a piece of plastic',\n",
    "    'a bundle of straw',\n",
    "    'a massproduced tin',\n",
    "    'a legal weeds',\n",
    "    'a numb wood'\n",
    "]\n",
    "\n",
    "movements = [\n",
    "    'wandering in the nightmarket',\n",
    "    'sitting on the dinner table',\n",
    "    'working in the crowd',\n",
    "    'swimming in the sea',\n",
    "    'joking in a cold, windy climate',\n",
    "    'waiting in a deserted airport',\n",
    "    'missing in a metropolis',\n",
    "]\n",
    "\n",
    "action = [\n",
    "    'move out of the city',\n",
    "    'hold my breath',\n",
    "    'run in the rain',\n",
    "    'stay alone at home'\n",
    "]\n",
    "\n",
    "occation = [\n",
    "    'enjoy a quiety night',\n",
    "    'for a cup of flower tea',\n",
    "    'taking a cold shower',\n",
    "    'cleaning up the brain',\n",
    "    'calling friends',\n",
    "    'horsing',\n",
    "]\n",
    "\n",
    "stanza_count = 5\n",
    "for i in range(stanza_count):\n",
    "    print()\n",
    "    print(\"I am not \" + random.choice(materials))\n",
    "    print(\"     \" + random.choice(movements))\n",
    "    print(\"          I rather \" + random.choice(action))\n",
    "    print(\"                go \" + random.choice(occation))"
   ]
  }
 ],
 "metadata": {
  "kernelspec": {
   "display_name": "Python 3 (ipykernel)",
   "language": "python",
   "name": "python3"
  },
  "language_info": {
   "codemirror_mode": {
    "name": "ipython",
    "version": 3
   },
   "file_extension": ".py",
   "mimetype": "text/x-python",
   "name": "python",
   "nbconvert_exporter": "python",
   "pygments_lexer": "ipython3",
   "version": "3.9.13"
  }
 },
 "nbformat": 4,
 "nbformat_minor": 5
}
