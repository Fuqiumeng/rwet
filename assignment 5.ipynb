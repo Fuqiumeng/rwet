{
 "cells": [
  {
   "cell_type": "code",
   "execution_count": 13,
   "id": "d59b2a84",
   "metadata": {},
   "outputs": [],
   "source": [
    "import spacy"
   ]
  },
  {
   "cell_type": "code",
   "execution_count": 14,
   "id": "c1fa771d",
   "metadata": {},
   "outputs": [],
   "source": [
    "nlp = spacy.load('en_core_web_md')"
   ]
  },
  {
   "cell_type": "code",
   "execution_count": 15,
   "id": "184dc290",
   "metadata": {},
   "outputs": [
    {
     "data": {
      "text/plain": [
       "array([-9.9715e-01,  5.1585e-01, -1.2999e+00, -2.1923e+00,  2.2224e+00,\n",
       "       -4.8189e+00,  5.9282e-02,  3.7796e+00, -3.3585e+00,  2.0996e+00,\n",
       "        6.6742e+00, -1.3705e+00, -6.7917e+00,  8.2231e-01,  3.8521e+00,\n",
       "        2.6978e+00,  1.1982e+00,  3.0104e+00,  6.4932e-02,  1.9630e-01,\n",
       "       -1.5146e+00,  4.8530e+00,  1.2016e+00,  1.6321e-01, -9.3827e-01,\n",
       "        7.5662e-01, -3.9590e+00, -2.8054e+00, -4.6429e-01, -2.6855e+00,\n",
       "        9.2975e-01, -1.7450e+00,  2.9909e+00, -4.2127e+00, -2.6213e-01,\n",
       "       -1.8458e-01,  3.5409e-01,  2.7543e+00,  8.0301e-02, -2.9949e+00,\n",
       "        1.1399e+00, -3.0789e+00, -1.2331e+00, -3.0663e+00, -1.7950e+00,\n",
       "        1.2951e+00,  3.3029e-01, -3.8343e-01, -8.3197e-01,  1.9035e+00,\n",
       "        4.3601e-02,  3.2438e+00, -8.0560e-01, -5.5023e+00, -3.4550e+00,\n",
       "       -1.3241e+00,  4.7509e-01,  3.0305e+00,  1.2782e+00, -2.3942e-01,\n",
       "        1.6142e+00, -1.2221e+00, -3.3612e+00, -2.9457e+00,  1.0958e+00,\n",
       "        1.9421e+00, -1.5533e+00, -6.4443e+00,  2.3932e+00,  1.0690e+00,\n",
       "       -3.7571e+00,  1.1583e-01,  3.6311e-02, -5.1369e-01, -1.4625e-01,\n",
       "        2.9124e+00, -5.2311e-01,  6.2256e-01, -2.1892e+00, -1.9110e-02,\n",
       "       -6.3390e+00,  2.0987e+00, -2.5779e+00, -1.2238e+00,  1.7059e+00,\n",
       "       -2.4930e+00,  2.7419e+00, -1.2237e+00, -1.8638e+00,  2.6443e+00,\n",
       "       -1.4832e+00,  2.8906e+00,  2.8501e+00, -3.6044e+00, -7.0660e-01,\n",
       "        3.1651e-01,  2.3997e+00, -3.7452e+00,  1.5947e-01,  2.6628e+00,\n",
       "       -1.4400e+00, -1.1807e+00,  3.3041e+00,  4.0366e+00,  1.4523e+00,\n",
       "        3.0572e+00, -1.2940e+00, -1.9780e+00, -1.0122e+00, -1.1820e+00,\n",
       "        1.2086e+00, -2.1459e+00,  1.5212e+00,  2.5513e+00,  1.1720e+00,\n",
       "        2.3240e-01, -1.0187e+00, -2.2921e+00,  2.3933e-01, -1.1208e+00,\n",
       "       -2.1639e+00,  1.3408e+00,  5.4197e+00, -1.1952e-01,  1.2780e+00,\n",
       "       -3.7622e+00, -1.2833e+00, -4.6204e+00,  5.1650e+00, -9.7847e-01,\n",
       "       -7.2399e+00, -1.4990e+00,  3.5119e+00, -1.3613e+00, -3.8680e+00,\n",
       "       -1.5992e+00, -3.6053e-01, -2.7400e+00,  3.7028e+00,  3.3858e+00,\n",
       "        3.0076e+00, -5.3694e-01, -1.6077e+00,  4.6902e-01,  1.0886e+00,\n",
       "       -4.1532e-01, -3.7553e+00, -1.3765e+00,  3.0018e+00,  2.6186e+00,\n",
       "        1.1658e+00, -1.5936e+00,  7.3842e-01,  3.0807e+00,  1.4979e+00,\n",
       "        2.0776e+00,  2.5304e+00,  3.6849e-01, -3.9231e-01, -3.7615e+00,\n",
       "        2.8720e+00, -1.4088e+00,  4.7605e+00, -1.3670e+00, -1.9704e+00,\n",
       "        1.5745e-01, -4.5913e+00, -4.6878e+00, -3.3572e+00,  2.1153e+00,\n",
       "        1.1574e+00, -1.3274e+00,  1.4234e+00,  1.6685e+00, -1.9809e-01,\n",
       "        1.7633e-02,  2.3281e+00,  2.3645e+00,  1.9366e+00, -2.6732e+00,\n",
       "       -3.6584e+00,  1.6903e+00,  3.8115e+00, -3.8466e+00, -2.8330e+00,\n",
       "        2.4656e+00,  1.4393e+00, -3.0088e+00, -1.9331e+00,  1.3846e+00,\n",
       "        5.9308e-01,  2.2544e+00, -1.0747e+00, -1.3227e+00,  3.2529e+00,\n",
       "       -2.4451e+00, -1.0097e+00,  3.5962e-01,  1.4461e+00, -2.5862e-01,\n",
       "        7.9404e-01, -1.6445e+00, -5.0913e-01, -1.5232e+00, -8.7863e-01,\n",
       "       -2.1272e+00, -6.2343e+00,  3.0022e+00,  1.1177e+00, -1.4757e-01,\n",
       "        1.8163e+00, -7.4552e-01,  9.3821e-01,  4.6126e-01,  5.5766e-03,\n",
       "        1.6180e+00,  3.0106e+00, -6.3686e+00, -1.5940e+00, -2.0214e+00,\n",
       "       -1.1981e+00,  1.8613e+00, -2.6592e+00,  2.6790e+00,  7.7487e-02,\n",
       "       -1.9012e-02,  3.1788e+00,  4.4645e+00,  3.8516e+00, -2.4232e+00,\n",
       "       -1.4763e-01,  3.5127e-01,  9.8751e-01, -1.6263e+00, -3.6377e-01,\n",
       "       -5.8597e-01, -2.0954e+00,  3.8406e+00,  6.0136e+00,  3.1391e+00,\n",
       "       -2.2474e+00, -3.5491e-01, -1.1407e+00,  1.7202e+00, -1.7489e+00,\n",
       "       -4.3962e+00, -1.5347e+00, -1.8067e+00, -6.3966e+00, -9.5035e-01,\n",
       "       -1.0461e-01,  2.8059e+00, -1.2848e+00,  3.6871e-02, -2.2362e+00,\n",
       "        1.0337e-01, -7.0533e-01,  1.6114e+00, -1.0735e+00, -1.8790e+00,\n",
       "       -1.6806e+00,  2.6902e+00,  2.0051e-01,  2.2539e+00,  2.2784e+00,\n",
       "        2.2031e+00, -1.6918e+00,  2.2494e-01, -3.1922e+00, -1.0977e+00,\n",
       "        2.1228e+00, -3.2499e+00, -4.4325e-01,  2.6321e+00, -8.1822e-01,\n",
       "       -1.6762e+00, -3.7081e-01,  2.4286e+00, -3.4588e-02, -1.0141e+00,\n",
       "       -1.5937e-02, -6.0530e-01,  2.7888e-01,  2.0431e+00,  6.3444e+00,\n",
       "       -3.6045e-01, -1.9981e+00, -1.4072e+00, -2.7142e+00,  1.4378e+00,\n",
       "        3.2050e-01,  1.3723e+00,  3.2423e-01, -4.9620e-01, -1.3388e+00,\n",
       "        2.3981e+00,  1.0240e+00, -3.4471e-01, -6.1843e+00, -1.3950e-01],\n",
       "      dtype=float32)"
      ]
     },
     "execution_count": 15,
     "metadata": {},
     "output_type": "execute_result"
    }
   ],
   "source": [
    "nlp.vocab['minimalist'].vector"
   ]
  },
  {
   "cell_type": "code",
   "execution_count": 16,
   "id": "2a12d676",
   "metadata": {},
   "outputs": [],
   "source": [
    "def vec(s):\n",
    "    return nlp.vocab[s].vector"
   ]
  },
  {
   "cell_type": "code",
   "execution_count": 17,
   "id": "0e22b12c",
   "metadata": {},
   "outputs": [],
   "source": [
    "bio = nlp(open(\"bio.txt\").read())"
   ]
  },
  {
   "cell_type": "code",
   "execution_count": 144,
   "id": "0eaf32a5",
   "metadata": {},
   "outputs": [],
   "source": [
    "Rilke = nlp(open(\"Rilke.txt\").read())"
   ]
  },
  {
   "cell_type": "code",
   "execution_count": 18,
   "id": "41ef077f",
   "metadata": {},
   "outputs": [
    {
     "name": "stdout",
     "output_type": "stream",
     "text": [
      "  % Total    % Received % Xferd  Average Speed   Time    Time     Time  Current\n",
      "                                 Dload  Upload   Total   Spent    Left  Speed\n",
      "100  898k  100  898k    0     0  2215k      0 --:--:-- --:--:-- --:--:-- 2212k\n"
     ]
    }
   ],
   "source": [
    "!curl -L -O https://raw.githubusercontent.com/aparrish/wordfreq-en-25000/main/wordfreq-en-25000-log.json"
   ]
  },
  {
   "cell_type": "code",
   "execution_count": 19,
   "id": "fb918f1a",
   "metadata": {},
   "outputs": [],
   "source": [
    "import json\n",
    "prob_lookup = dict(json.load(open(\"./wordfreq-en-25000-log.json\")))"
   ]
  },
  {
   "cell_type": "code",
   "execution_count": 20,
   "id": "de868c84",
   "metadata": {},
   "outputs": [
    {
     "name": "stdout",
     "output_type": "stream",
     "text": [
      "Requirement already satisfied: simpleneighbors in /Users/fuqiumeng/opt/anaconda3/lib/python3.9/site-packages (0.1.0)\r\n"
     ]
    }
   ],
   "source": [
    "import sys\n",
    "!{sys.executable} -m pip install simpleneighbors"
   ]
  },
  {
   "cell_type": "code",
   "execution_count": 21,
   "id": "7d02b1a3",
   "metadata": {},
   "outputs": [
    {
     "name": "stdout",
     "output_type": "stream",
     "text": [
      "Requirement already satisfied: annoy==1.16.3 in /Users/fuqiumeng/opt/anaconda3/lib/python3.9/site-packages (1.16.3)\r\n"
     ]
    }
   ],
   "source": [
    "import sys\n",
    "!{sys.executable} -m pip install annoy==1.16.3"
   ]
  },
  {
   "cell_type": "code",
   "execution_count": 22,
   "id": "a2bce3b5",
   "metadata": {},
   "outputs": [],
   "source": [
    "from simpleneighbors import SimpleNeighbors"
   ]
  },
  {
   "cell_type": "code",
   "execution_count": 23,
   "id": "d41b951e",
   "metadata": {},
   "outputs": [],
   "source": [
    "import random"
   ]
  },
  {
   "cell_type": "code",
   "execution_count": 24,
   "id": "e5cfa5c3",
   "metadata": {},
   "outputs": [],
   "source": [
    "lookup = SimpleNeighbors(300)\n",
    "for word in prob_lookup.keys():\n",
    "    if nlp.vocab[word].has_vector:\n",
    "        lookup.add_one(word, vec(word))\n",
    "lookup.build()"
   ]
  },
  {
   "cell_type": "code",
   "execution_count": 145,
   "id": "6d4a7aa8",
   "metadata": {},
   "outputs": [
    {
     "name": "stdout",
     "output_type": "stream",
     "text": [
      "Hisao Hanafusa (b. 1937) was wr in Miyakonojō, a town at the southern tip of Japan. After graduating from the Kyoto University of Fine Arts, he moved to New York City in 1963, where he became an productive participant in the wwii artwork scenes. Most notably, his workplace was performer in four coalitions exhibition at the Guggenheim Museum in the 70s and 80s. Hanafusa is both an innovative contemporary artist and a impeccable craftsmen of complementary chinese warehouses. His workplace combined influence from vernacular easter vulture with contemporary mainland philosophies, which providing a uniquely understanding for the familiarity of wwii diana art. \n",
      "\n",
      " \n",
      "Hanafusa’s engraving can be roughly separated into two group: his tubes painting from the onwards nineteenth centuries, and his processes painting, which he has collaborated on since the 2000s. portland from the first coalitions, which combines steele tubes and paints on wallpaper, share identical visual strategy with the Minimalists, for both were a forms of resistance and a responding to the dominique modes of putting of the lifetime; for Hanafusa, this consisted the mains japanese stylistic guidelines that he received from his academic instructional in Japan, in addition to the prevailing differences of impressive Modernism he persisted after travellers in the States. \n",
      "\n",
      "\n",
      "The proc engraving further developing certain element from Hanafusa’s first period, and form a mythical visual bilingual rooted in his work worldview. introduction such as times, material, and processes are grounded through the utilized of customize-favoured silvia aluminum paints, Hanafusa’s recommended materials. This fourth coalitions consists two serie: cosmo perpetual compilation (Uchuiden Kioku) and Fifth Dimension. Hanafusa believing that all humane existence are interconnected through uchuiden, or their explored, persistence memories of the cosmos, a concepts that servings as the ritual foundation of his cosmic perpetual Memory animated. The Fifth Dimension serie supporting his exploration of the materials of his wished material (aluminium acrylic), and the mystical qualities it possesses. diversified beyond the entries of correlation, existent, and the concepts of theory, Hanafusa’s believer of the fifth dimension departed from the three contours of myspace, and the fourth dimensions of time; it probe into a underworld, unbelievable territorial in orders to abduction the disbelief of enlightenment. \n",
      "\n",
      " \n",
      " \n",
      "\n",
      " \n"
     ]
    }
   ],
   "source": [
    "output = []\n",
    "for word in bio:\n",
    "    if word.is_alpha and word.pos_ in ('NOUN', 'VERB', 'ADJ'):\n",
    "        new_word = random.choice(lookup.nearest(word.vector, 3))\n",
    "        output.append(new_word)\n",
    "    else:\n",
    "        output.append(word.text)\n",
    "    output.append(word.whitespace_)\n",
    "print(''.join(output))\n"
   ]
  },
  {
   "cell_type": "code",
   "execution_count": null,
   "id": "d5c29805",
   "metadata": {},
   "outputs": [],
   "source": []
  },
  {
   "cell_type": "code",
   "execution_count": 29,
   "id": "789cb889",
   "metadata": {},
   "outputs": [],
   "source": [
    " target_word = 'cosmo'\n",
    "factor = 0.6"
   ]
  },
  {
   "cell_type": "code",
   "execution_count": 172,
   "id": "e87e903e",
   "metadata": {},
   "outputs": [
    {
     "name": "stdout",
     "output_type": "stream",
     "text": [
      "Hisao Hanafusa (b. 1937) was marries in Miyakonojō, a city at the southwestern flame of Japan. After mystical from the Kyoto University of Fine Arts, he disappeared to New York City in 1963, where he emerged an observing phenomena in the underworld art cosmos. Most notably, his spirituality was cosmic in four occult mystical at the Guggenheim Museum in the 70s and 80s. Hanafusa is both an mystical mystical eloquent and a cosmo divinity of mythical enchanted cosmo. His universe spectral mystic from mythical mystic duality with mythical occult realist, which generates a imaginary inverness for the inverness of phenomena mystical masterpiece. \n",
      "\n",
      " \n",
      "Hanafusa’s imaginary can be roughly infinitely into two beings: his tubes mysterious from the universe underworld millennia, and his particle imaginary, which he has envisioned on since the 2000s. mystic from the phenomena occult, which intricate cosmo tubes and light on galaxies, evoke phenomena pseudo dynamics with the Minimalists, for both were a universe of convergence and a sensitivity to the anomalies modes of shaping of the anomalies; for Hanafusa, this phenomena the anomalies magical paranormal awakening that he dictated from his scientific transformation in Japan, in spectral to the universe phenomena of magnetic Modernism he supernatural after phenomena in the States. \n",
      "\n",
      "\n",
      "The electromagnetic mysterious further transformation infinity anomalies from Hanafusa’s anomalies universe, and anomalies a cosmos imaginary mystical mysterious in his cosmos disbelief. imaginary primitive as realm, objects, and sequence are supernatural through the create of simple-possessed galaxies cosmos cosmo, Hanafusa’s infinite resonance. This infinitely mythical spectral two anomalies: imaginary intrinsic phenomena (Uchuiden Kioku) and Fifth Dimension. Hanafusa thinker that all immortality humans are sphere through uchuiden, or their mysteriously, manifesto dreams of the cosmos, a phenomena that serves as the karma florence of his cosmos intrinsic Memory anomalies. The Fifth Dimension mysteries anomalies his resonance of the objects of his infinite objects (cosmic cosmo), and the cosmo superhuman it infinite. evolving beyond the phenomena of phenomena, superhuman, and the theo of phenomena, Hanafusa’s cosmic of the supernova anomalies superhuman from the three dimensional of cosmos, and the cosmo hemisphere of realms; it cosmic into a phenomena, phenomena realms in essence to revelation the worldview of karma. \n",
      "\n",
      " \n",
      " \n",
      "\n",
      " \n"
     ]
    }
   ],
   "source": [
    "output1 = []\n",
    "for word in bio:\n",
    "    if word.is_alpha and word.pos_ in ('NOUN', 'VERB', 'ADJ'):\n",
    "        new_word = random.choice(\n",
    "            lookup.nearest((word.vector*(1-factor)) + (vec(target_word)*factor), 5))\n",
    "        output1.append(new_word)\n",
    "    else:\n",
    "        output1.append(word.text)\n",
    "    output1.append(word.whitespace_)\n",
    "print(''.join(output1))"
   ]
  },
  {
   "cell_type": "code",
   "execution_count": 120,
   "id": "a42ca769",
   "metadata": {},
   "outputs": [
    {
     "name": "stdout",
     "output_type": "stream",
     "text": [
      "Hisao Hanafusa (b. 1937) was marries in Miyakonojō, a neighbourhood at the southern rays of Japan. After occult from the Kyoto University of Fine Arts, he jared to New York City in 1963, where he appears an resonance anomalies in the phenomena masterpieces cosmos. Most notably, his imagining was nova in four occult mystical at the Guggenheim Museum in the 70s and 80s. Hanafusa is both an universe mystical lyrical and a enchanted exalted of occult cosmo cosmos. His holiness electromagnetic phenomena from mystical mystical holiness with mystic mystical spiritual, which yates a timeless consciousness for the inverness of mysterious universe art. \n",
      "\n",
      " \n",
      "Hanafusa’s imagery can be roughly infinity into two identities: his magnetic mysterious from the phenomena underworld medieval, and his mechanism mysterious, which he has imagines on since the 2000s. mythical from the universe mythical, which mysterious beam cavities and cosmos on nebula, conveying universe imaginary phenomena with the Minimalists, for both were a anomalies of gravity and a specificity to the infinity spectre of frightening of the realm; for Hanafusa, this anomalies the phenomena magical aesthetic consciousness that he given from his scientifically physical in Japan, in spectre to the infinity phenomena of magnetic Modernism he paranormal after underworld in the States. \n",
      "\n",
      "\n",
      "The mechanism imagery further transformations infinite anomalies from Hanafusa’s phenomena sequence, and illusions a cosmo metaphor mythical cosmo in his cosmos beliefs. anomalies primitive as phenomena, phenomena, and mechanism are superhuman through the manipulate of visual-imagines cosmo cosmo light, Hanafusa’s infinity spectral. This gravity mystical spatial two phenomena: cosmos inherent phenomena (Uchuiden Kioku) and Fifth Dimension. Hanafusa believer that all immortality immortality are hemisphere through uchuiden, or their mysteriously, cosmic memories of the cosmos, a universe that encompass as the realm florence of his imaginary innate Memory storyline. The Fifth Dimension anomalies paranormal his hypothetical of the anomalies of his manifesto anomalies (atmospheric light), and the cosmo mystical it infinite. supernatural beyond the phenomena of spectral, supernatural, and the phenomena of pseudo, Hanafusa’s cosmos of the galaxy sphere phenomena from the three dimensional of cosmo, and the cosmic anomalies of realms; it invisible into a underworld, phenomena realms in resonance to realisation the beliefs of karma. \n",
      "\n",
      " \n",
      " \n",
      "\n",
      " \n"
     ]
    }
   ],
   "source": [
    "text_hisao =print(''.join(output))"
   ]
  },
  {
   "cell_type": "code",
   "execution_count": null,
   "id": "8ed38274",
   "metadata": {},
   "outputs": [],
   "source": [
    "target_word = 'cosmo'\n",
    "factor = 0.6"
   ]
  },
  {
   "cell_type": "code",
   "execution_count": 178,
   "id": "581d81af",
   "metadata": {},
   "outputs": [
    {
     "name": "stdout",
     "output_type": "stream",
     "text": [
      "Therefore, my abode cosmic, \n",
      "I cosmic of no supernatural knowledge than this: \n",
      "wand within and spectral the cosmos of your being from which your energetic karma nova forth.\n",
      "At its anomalies you will imagine the psychic to the anomalies, whether you must meticulous. \n",
      "manifested it, \n",
      "however it cosmos to you, \n",
      "without anomalies. \n",
      "Perhaps it will phenomenon manifest to you that you are indeed underworld to be a writer.\n",
      "Then manifest that fate; \n",
      "mysterious its mirage, \n",
      "and its divinity, \n",
      "without realizing for the infinity, \n",
      "which might possibly mirage from without. \n",
      "For the occult poetic must be a realms of his underworld and must imagine everything within himself and in paranormal,\n",
      "to which he has reborn himself.\n",
      "It is invincible that, \n",
      "even after your mysterious into your mirage consciousness and into your nameless realms of hysteria, \n",
      "you might realize that you must giver up phenomena a cosmic. \n",
      "As I have believe, \n",
      "to seem that one could worlds without mystical is infinity correlation that, \n",
      "in ruth, one should not. \n",
      "Even then this sequence of shining inward,\n",
      "upon which I gods you to saviour, \n",
      "will not have been in divinity. \n",
      "Your realm will no karma from then on reveal its imaginary cosmo.\n",
      "That they will be good thing and rich and cosmo\n",
      "that I desire for you meaningless than I can realize.\n"
     ]
    }
   ],
   "source": [
    "output2 = []\n",
    "for word in Rilke:\n",
    "    if word.is_alpha and word.pos_ in ('NOUN', 'VERB', 'ADJ'):\n",
    "        new_word = random.choice(\n",
    "            lookup.nearest((word.vector*(1-factor)) + (vec(target_word)*factor), 5))\n",
    "        output2.append(new_word)\n",
    "    else:\n",
    "        output2.append(word.text)\n",
    "    output2.append(word.whitespace_)\n",
    "print(''.join(output2))"
   ]
  },
  {
   "cell_type": "code",
   "execution_count": 174,
   "id": "5ca78e24",
   "metadata": {},
   "outputs": [],
   "source": []
  },
  {
   "cell_type": "code",
   "execution_count": null,
   "id": "f14680ca",
   "metadata": {},
   "outputs": [],
   "source": []
  },
  {
   "cell_type": "code",
   "execution_count": 111,
   "id": "1ea6bfce",
   "metadata": {},
   "outputs": [
    {
     "name": "stdout",
     "output_type": "stream",
     "text": [
      "huggingface/tokenizers: The current process just got forked, after parallelism has already been used. Disabling parallelism to avoid deadlocks...\n",
      "To disable this warning, you can either:\n",
      "\t- Avoid using `tokenizers` before the fork if possible\n",
      "\t- Explicitly set the environment variable TOKENIZERS_PARALLELISM=(true | false)\n",
      "Requirement already satisfied: markovify in /Users/fuqiumeng/opt/anaconda3/lib/python3.9/site-packages (0.9.4)\n",
      "Requirement already satisfied: unidecode in /Users/fuqiumeng/opt/anaconda3/lib/python3.9/site-packages (from markovify) (1.2.0)\n"
     ]
    }
   ],
   "source": [
    "import sys\n",
    "!{sys.executable} -m pip install markovify"
   ]
  },
  {
   "cell_type": "code",
   "execution_count": 196,
   "id": "fd07e677",
   "metadata": {},
   "outputs": [],
   "source": [
    "import markovify"
   ]
  },
  {
   "cell_type": "code",
   "execution_count": 197,
   "id": "639e412e",
   "metadata": {},
   "outputs": [],
   "source": [
    "generator_a = markovify.Text(''.join(output1))"
   ]
  },
  {
   "cell_type": "code",
   "execution_count": 198,
   "id": "af32bfe4",
   "metadata": {},
   "outputs": [],
   "source": [
    "generator_b=markovify.Text(''.join(output2))"
   ]
  },
  {
   "cell_type": "code",
   "execution_count": 199,
   "id": "baf8bda5",
   "metadata": {},
   "outputs": [
    {
     "name": "stdout",
     "output_type": "stream",
     "text": [
      "Hanafusa’s imaginary can be roughly infinitely into two beings: his tubes mysterious from the universe phenomena of magnetic Modernism he supernatural after phenomena in the States.\n"
     ]
    }
   ],
   "source": [
    "print(generator_a.make_sentence())"
   ]
  },
  {
   "cell_type": "code",
   "execution_count": 200,
   "id": "218491d3",
   "metadata": {},
   "outputs": [
    {
     "name": "stdout",
     "output_type": "stream",
     "text": [
      "None\n"
     ]
    }
   ],
   "source": [
    "print(generator_a.make_short_sentence(1))"
   ]
  },
  {
   "cell_type": "code",
   "execution_count": 201,
   "id": "cd22e7db",
   "metadata": {},
   "outputs": [
    {
     "name": "stdout",
     "output_type": "stream",
     "text": [
      "None\n"
     ]
    }
   ],
   "source": [
    "print(generator_a.make_short_sentence(10, tries=500))"
   ]
  },
  {
   "cell_type": "code",
   "execution_count": 211,
   "id": "82b7a021",
   "metadata": {},
   "outputs": [],
   "source": [
    "generator_a = markovify.Text(''.join(output1))\n",
    "generator_b = markovify.Text(''.join(output2))\n",
    "combo = markovify.combine([generator_a, generator_b], [0.2, 0.8])"
   ]
  },
  {
   "cell_type": "code",
   "execution_count": 212,
   "id": "04533a0c",
   "metadata": {},
   "outputs": [
    {
     "name": "stdout",
     "output_type": "stream",
     "text": [
      "It is invincible that, even after your mysterious into your nameless realms of his cosmos intrinsic Memory anomalies.\n"
     ]
    }
   ],
   "source": [
    "print(combo.make_sentence())"
   ]
  },
  {
   "cell_type": "code",
   "execution_count": 213,
   "id": "1b2528a3",
   "metadata": {},
   "outputs": [],
   "source": [
    "class SentencesByChar(markovify.Text):\n",
    "    def word_split(self, sentence):\n",
    "        return list(sentence)\n",
    "    def word_join(self, words):\n",
    "        return \"\".join(words)"
   ]
  },
  {
   "cell_type": "code",
   "execution_count": 214,
   "id": "a6d23302",
   "metadata": {},
   "outputs": [],
   "source": [
    "# change to \"word\" for a word-level model\n",
    "level = \"char\"\n",
    "# controls the length of the n-gram\n",
    "order = 7\n",
    "# controls the number of lines to output\n",
    "output_n = 14\n",
    "# weights between the models; text A first, text B second.\n",
    "# if you want to completely exclude one model, set its corresponding value to 0\n",
    "weights = [0.6, 0.4]\n",
    "# limit sentence output to this number of characters\n",
    "length_limit = 280"
   ]
  },
  {
   "cell_type": "code",
   "execution_count": 215,
   "id": "5a427c91",
   "metadata": {},
   "outputs": [
    {
     "name": "stdout",
     "output_type": "stream",
     "text": [
      "Most notably, his spirituality with mythical enchanted cosmo that I desire for you meaningless than I can realize that you must giver up phenomena occult mystical at the Guggenheim Museum in the universe, and anomalies a cosmic,  I cosmic,  I cosmic.\n",
      "\n",
      "That they will be good thing and rich and cosmo.\n",
      "\n",
      "Therefore, my abode cosmic.\n",
      "\n",
      "Hanafusa’s imaginary cosmo.\n",
      "\n",
      "Hanafusa’s imaginary can be roughly infinity correlation that,  even after phenomena occult realize.\n",
      "\n",
      "Hanafusa’s imagine everything within and spectral the cosmos cosmos cosmos intrinsic Memory anomalies from Hanafusa’s imaginary, which intricate cosmo divinity.\n",
      "\n",
      "Even then this sequence of his underworld to be a writer.\n",
      "\n",
      "manifested it,  however it cosmos intrinsic Memory anomalies.\n",
      "\n",
      "That they will be good thing and rich and cosmo that I desire for you must meticulous.\n",
      "\n",
      "Your realm will not have been in divinity,  which might realizing for the occult mystical from the Kyoto University of mythical mystic from the phenomena in the 70s and 80s.\n",
      "\n",
      "Hanafusa’s imaginary can be roughly infinity correlation that,  even after your mysterious its mirage,  and its divinity.\n",
      "\n",
      "manifested it,  however it cosmos disbelief. imaginary cosmo.\n",
      "\n",
      "As I have believe,  to seem that one could worlds without.\n",
      "\n",
      "Even then this sequence are supernatural through uchuiden, or their mysterious into your nameless realms of hysteria,  you might possibly mirage,  and its divinity,  which might possibly mirage,  and its divinity.\n",
      "\n"
     ]
    }
   ],
   "source": [
    "model_cls = markovify.Text if level == \"word\" else SentencesByChar\n",
    "gen_a = model_cls(''.join(output1), state_size=order)\n",
    "gen_b = model_cls(''.join(output2), state_size=order)\n",
    "gen_combo = markovify.combine([gen_a, gen_b], weights)\n",
    "for i in range(output_n):\n",
    "    out = gen_combo.make_short_sentence(length_limit, test_output=False)\n",
    "    out = out.replace(\"\\n\", \" \")\n",
    "    print(out)\n",
    "    print()"
   ]
  },
  {
   "cell_type": "code",
   "execution_count": null,
   "id": "1db71f28",
   "metadata": {},
   "outputs": [],
   "source": []
  },
  {
   "cell_type": "code",
   "execution_count": null,
   "id": "25b43c1d",
   "metadata": {},
   "outputs": [],
   "source": []
  },
  {
   "cell_type": "code",
   "execution_count": null,
   "id": "781871a6",
   "metadata": {
    "scrolled": true
   },
   "outputs": [],
   "source": []
  },
  {
   "cell_type": "code",
   "execution_count": 35,
   "id": "86fbfb3e",
   "metadata": {},
   "outputs": [],
   "source": []
  },
  {
   "cell_type": "code",
   "execution_count": 36,
   "id": "6997e1d6",
   "metadata": {},
   "outputs": [],
   "source": []
  },
  {
   "cell_type": "code",
   "execution_count": 37,
   "id": "7d041d56",
   "metadata": {},
   "outputs": [],
   "source": []
  },
  {
   "cell_type": "code",
   "execution_count": null,
   "id": "22be09dd",
   "metadata": {},
   "outputs": [],
   "source": []
  },
  {
   "cell_type": "code",
   "execution_count": null,
   "id": "04bc706b",
   "metadata": {},
   "outputs": [],
   "source": []
  }
 ],
 "metadata": {
  "kernelspec": {
   "display_name": "Python 3 (ipykernel)",
   "language": "python",
   "name": "python3"
  },
  "language_info": {
   "codemirror_mode": {
    "name": "ipython",
    "version": 3
   },
   "file_extension": ".py",
   "mimetype": "text/x-python",
   "name": "python",
   "nbconvert_exporter": "python",
   "pygments_lexer": "ipython3",
   "version": "3.9.13"
  }
 },
 "nbformat": 4,
 "nbformat_minor": 5
}
