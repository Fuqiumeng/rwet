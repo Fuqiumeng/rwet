{
 "cells": [
  {
   "cell_type": "code",
   "execution_count": 31,
   "id": "d59b2a84",
   "metadata": {},
   "outputs": [],
   "source": [
    "import spacy"
   ]
  },
  {
   "cell_type": "code",
   "execution_count": 32,
   "id": "c1fa771d",
   "metadata": {},
   "outputs": [],
   "source": [
    "nlp = spacy.load('en_core_web_md')"
   ]
  },
  {
   "cell_type": "code",
   "execution_count": 33,
   "id": "184dc290",
   "metadata": {},
   "outputs": [
    {
     "data": {
      "text/plain": [
       "array([-9.9715e-01,  5.1585e-01, -1.2999e+00, -2.1923e+00,  2.2224e+00,\n",
       "       -4.8189e+00,  5.9282e-02,  3.7796e+00, -3.3585e+00,  2.0996e+00,\n",
       "        6.6742e+00, -1.3705e+00, -6.7917e+00,  8.2231e-01,  3.8521e+00,\n",
       "        2.6978e+00,  1.1982e+00,  3.0104e+00,  6.4932e-02,  1.9630e-01,\n",
       "       -1.5146e+00,  4.8530e+00,  1.2016e+00,  1.6321e-01, -9.3827e-01,\n",
       "        7.5662e-01, -3.9590e+00, -2.8054e+00, -4.6429e-01, -2.6855e+00,\n",
       "        9.2975e-01, -1.7450e+00,  2.9909e+00, -4.2127e+00, -2.6213e-01,\n",
       "       -1.8458e-01,  3.5409e-01,  2.7543e+00,  8.0301e-02, -2.9949e+00,\n",
       "        1.1399e+00, -3.0789e+00, -1.2331e+00, -3.0663e+00, -1.7950e+00,\n",
       "        1.2951e+00,  3.3029e-01, -3.8343e-01, -8.3197e-01,  1.9035e+00,\n",
       "        4.3601e-02,  3.2438e+00, -8.0560e-01, -5.5023e+00, -3.4550e+00,\n",
       "       -1.3241e+00,  4.7509e-01,  3.0305e+00,  1.2782e+00, -2.3942e-01,\n",
       "        1.6142e+00, -1.2221e+00, -3.3612e+00, -2.9457e+00,  1.0958e+00,\n",
       "        1.9421e+00, -1.5533e+00, -6.4443e+00,  2.3932e+00,  1.0690e+00,\n",
       "       -3.7571e+00,  1.1583e-01,  3.6311e-02, -5.1369e-01, -1.4625e-01,\n",
       "        2.9124e+00, -5.2311e-01,  6.2256e-01, -2.1892e+00, -1.9110e-02,\n",
       "       -6.3390e+00,  2.0987e+00, -2.5779e+00, -1.2238e+00,  1.7059e+00,\n",
       "       -2.4930e+00,  2.7419e+00, -1.2237e+00, -1.8638e+00,  2.6443e+00,\n",
       "       -1.4832e+00,  2.8906e+00,  2.8501e+00, -3.6044e+00, -7.0660e-01,\n",
       "        3.1651e-01,  2.3997e+00, -3.7452e+00,  1.5947e-01,  2.6628e+00,\n",
       "       -1.4400e+00, -1.1807e+00,  3.3041e+00,  4.0366e+00,  1.4523e+00,\n",
       "        3.0572e+00, -1.2940e+00, -1.9780e+00, -1.0122e+00, -1.1820e+00,\n",
       "        1.2086e+00, -2.1459e+00,  1.5212e+00,  2.5513e+00,  1.1720e+00,\n",
       "        2.3240e-01, -1.0187e+00, -2.2921e+00,  2.3933e-01, -1.1208e+00,\n",
       "       -2.1639e+00,  1.3408e+00,  5.4197e+00, -1.1952e-01,  1.2780e+00,\n",
       "       -3.7622e+00, -1.2833e+00, -4.6204e+00,  5.1650e+00, -9.7847e-01,\n",
       "       -7.2399e+00, -1.4990e+00,  3.5119e+00, -1.3613e+00, -3.8680e+00,\n",
       "       -1.5992e+00, -3.6053e-01, -2.7400e+00,  3.7028e+00,  3.3858e+00,\n",
       "        3.0076e+00, -5.3694e-01, -1.6077e+00,  4.6902e-01,  1.0886e+00,\n",
       "       -4.1532e-01, -3.7553e+00, -1.3765e+00,  3.0018e+00,  2.6186e+00,\n",
       "        1.1658e+00, -1.5936e+00,  7.3842e-01,  3.0807e+00,  1.4979e+00,\n",
       "        2.0776e+00,  2.5304e+00,  3.6849e-01, -3.9231e-01, -3.7615e+00,\n",
       "        2.8720e+00, -1.4088e+00,  4.7605e+00, -1.3670e+00, -1.9704e+00,\n",
       "        1.5745e-01, -4.5913e+00, -4.6878e+00, -3.3572e+00,  2.1153e+00,\n",
       "        1.1574e+00, -1.3274e+00,  1.4234e+00,  1.6685e+00, -1.9809e-01,\n",
       "        1.7633e-02,  2.3281e+00,  2.3645e+00,  1.9366e+00, -2.6732e+00,\n",
       "       -3.6584e+00,  1.6903e+00,  3.8115e+00, -3.8466e+00, -2.8330e+00,\n",
       "        2.4656e+00,  1.4393e+00, -3.0088e+00, -1.9331e+00,  1.3846e+00,\n",
       "        5.9308e-01,  2.2544e+00, -1.0747e+00, -1.3227e+00,  3.2529e+00,\n",
       "       -2.4451e+00, -1.0097e+00,  3.5962e-01,  1.4461e+00, -2.5862e-01,\n",
       "        7.9404e-01, -1.6445e+00, -5.0913e-01, -1.5232e+00, -8.7863e-01,\n",
       "       -2.1272e+00, -6.2343e+00,  3.0022e+00,  1.1177e+00, -1.4757e-01,\n",
       "        1.8163e+00, -7.4552e-01,  9.3821e-01,  4.6126e-01,  5.5766e-03,\n",
       "        1.6180e+00,  3.0106e+00, -6.3686e+00, -1.5940e+00, -2.0214e+00,\n",
       "       -1.1981e+00,  1.8613e+00, -2.6592e+00,  2.6790e+00,  7.7487e-02,\n",
       "       -1.9012e-02,  3.1788e+00,  4.4645e+00,  3.8516e+00, -2.4232e+00,\n",
       "       -1.4763e-01,  3.5127e-01,  9.8751e-01, -1.6263e+00, -3.6377e-01,\n",
       "       -5.8597e-01, -2.0954e+00,  3.8406e+00,  6.0136e+00,  3.1391e+00,\n",
       "       -2.2474e+00, -3.5491e-01, -1.1407e+00,  1.7202e+00, -1.7489e+00,\n",
       "       -4.3962e+00, -1.5347e+00, -1.8067e+00, -6.3966e+00, -9.5035e-01,\n",
       "       -1.0461e-01,  2.8059e+00, -1.2848e+00,  3.6871e-02, -2.2362e+00,\n",
       "        1.0337e-01, -7.0533e-01,  1.6114e+00, -1.0735e+00, -1.8790e+00,\n",
       "       -1.6806e+00,  2.6902e+00,  2.0051e-01,  2.2539e+00,  2.2784e+00,\n",
       "        2.2031e+00, -1.6918e+00,  2.2494e-01, -3.1922e+00, -1.0977e+00,\n",
       "        2.1228e+00, -3.2499e+00, -4.4325e-01,  2.6321e+00, -8.1822e-01,\n",
       "       -1.6762e+00, -3.7081e-01,  2.4286e+00, -3.4588e-02, -1.0141e+00,\n",
       "       -1.5937e-02, -6.0530e-01,  2.7888e-01,  2.0431e+00,  6.3444e+00,\n",
       "       -3.6045e-01, -1.9981e+00, -1.4072e+00, -2.7142e+00,  1.4378e+00,\n",
       "        3.2050e-01,  1.3723e+00,  3.2423e-01, -4.9620e-01, -1.3388e+00,\n",
       "        2.3981e+00,  1.0240e+00, -3.4471e-01, -6.1843e+00, -1.3950e-01],\n",
       "      dtype=float32)"
      ]
     },
     "execution_count": 33,
     "metadata": {},
     "output_type": "execute_result"
    }
   ],
   "source": [
    "nlp.vocab['minimalist'].vector"
   ]
  },
  {
   "cell_type": "code",
   "execution_count": 34,
   "id": "2a12d676",
   "metadata": {},
   "outputs": [],
   "source": [
    "def vec(s):\n",
    "    return nlp.vocab[s].vector"
   ]
  },
  {
   "cell_type": "code",
   "execution_count": 35,
   "id": "0e22b12c",
   "metadata": {},
   "outputs": [],
   "source": [
    "bio = nlp(open(\"bio.txt\").read())"
   ]
  },
  {
   "cell_type": "code",
   "execution_count": 36,
   "id": "41ef077f",
   "metadata": {},
   "outputs": [
    {
     "name": "stdout",
     "output_type": "stream",
     "text": [
      "  % Total    % Received % Xferd  Average Speed   Time    Time     Time  Current\n",
      "                                 Dload  Upload   Total   Spent    Left  Speed\n",
      "100  898k  100  898k    0     0  3183k      0 --:--:-- --:--:-- --:--:-- 3185k\n"
     ]
    }
   ],
   "source": [
    "!curl -L -O https://raw.githubusercontent.com/aparrish/wordfreq-en-25000/main/wordfreq-en-25000-log.json"
   ]
  },
  {
   "cell_type": "code",
   "execution_count": 37,
   "id": "fb918f1a",
   "metadata": {},
   "outputs": [],
   "source": [
    "import json\n",
    "prob_lookup = dict(json.load(open(\"./wordfreq-en-25000-log.json\")))"
   ]
  },
  {
   "cell_type": "code",
   "execution_count": 38,
   "id": "de868c84",
   "metadata": {},
   "outputs": [
    {
     "name": "stdout",
     "output_type": "stream",
     "text": [
      "Requirement already satisfied: simpleneighbors in /Users/fuqiumeng/opt/anaconda3/lib/python3.9/site-packages (0.1.0)\r\n"
     ]
    }
   ],
   "source": [
    "import sys\n",
    "!{sys.executable} -m pip install simpleneighbors"
   ]
  },
  {
   "cell_type": "code",
   "execution_count": 39,
   "id": "7d02b1a3",
   "metadata": {},
   "outputs": [
    {
     "name": "stdout",
     "output_type": "stream",
     "text": [
      "Requirement already satisfied: annoy==1.16.3 in /Users/fuqiumeng/opt/anaconda3/lib/python3.9/site-packages (1.16.3)\r\n"
     ]
    }
   ],
   "source": [
    "import sys\n",
    "!{sys.executable} -m pip install annoy==1.16.3"
   ]
  },
  {
   "cell_type": "code",
   "execution_count": 40,
   "id": "a2bce3b5",
   "metadata": {},
   "outputs": [],
   "source": [
    "from simpleneighbors import SimpleNeighbors"
   ]
  },
  {
   "cell_type": "code",
   "execution_count": 41,
   "id": "d41b951e",
   "metadata": {},
   "outputs": [],
   "source": [
    "import random"
   ]
  },
  {
   "cell_type": "code",
   "execution_count": 42,
   "id": "e5cfa5c3",
   "metadata": {},
   "outputs": [],
   "source": [
    "lookup = SimpleNeighbors(300)\n",
    "for word in prob_lookup.keys():\n",
    "    if nlp.vocab[word].has_vector:\n",
    "        lookup.add_one(word, vec(word))\n",
    "lookup.build()"
   ]
  },
  {
   "cell_type": "code",
   "execution_count": 43,
   "id": "6d4a7aa8",
   "metadata": {},
   "outputs": [
    {
     "name": "stdout",
     "output_type": "stream",
     "text": [
      "Hisao Hanafusa (b. 1937) was nv in Miyakonojō, a townsend at the eastern fork of Japan. After studying from the Kyoto University of Fine Arts, he moved to New York City in 1963, where he remained an unproductive participant in the postwar artworks montage. Most notably, his workplaces was alongside in four coalition collections at the Guggenheim Museum in the 70s and 80s. Hanafusa is both an innovative vernacular musician and a superb artisan of traditions chinese slumber. His workplace combining influences from vernacular easter cultures with contemporary mainland philosophy, which provide a unique perspectives for the familiarity of postwar indiana artworks. \n",
      "\n",
      " \n",
      "Hanafusa’s engraving can be roughly subdivided into two groupings: his pipe paintings from the late nineteenth renaissance, and his processes engraving, which he has collaborated on since the 2000s. portland from the third coalition, which combined steele tube and acrylic on wallpaper, discuss identical imaginative strategies with the Minimalists, for both were a derivative of resistance and a reacting to the dominant modes of making of the time; for Hanafusa, this consisted the unconventional chinese stylistic guidelines that he earned from his université training in Japan, in addition to the prevail differences of high Modernism he encountering after arriving in the States. \n",
      "\n",
      "\n",
      "The processes painting further develops certain element from Hanafusa’s firstly intervals, and forms a mystical visually bilingual embraced in his work worldview. inception articulated as times, mater, and process are grounded through the utilized of custom-made gold steel acrylic, Hanafusa’s preferring material. This fourth coalition consists two animated: cosmic inherent rendition (Uchuiden Kioku) and Fifth Dimension. Hanafusa believing that all inhuman existence are disconnected through uchuiden, or their viewed, latent stories of the cosmos, a conceptual that serving as the ritual foundations of his cosmos intrinsic Memory series. The Fifth Dimension serie continues his exploration of the materials of his chose material (steel paint), and the mythical qualities it possesses. expanding beyond the segments of correlation, existence, and the principle of theory, Hanafusa’s thoughts of the fifth dimensions departs from the three dimensions of spaces, and the sixth curvature of time; it probes into a mysterious, unbelievable lands in order to abduction the belief of enlightenment. \n",
      "\n",
      " \n",
      " \n",
      "\n",
      " \n"
     ]
    }
   ],
   "source": [
    "output = []\n",
    "for word in bio:\n",
    "    if word.is_alpha and word.pos_ in ('NOUN', 'VERB', 'ADJ'):\n",
    "        new_word = random.choice(lookup.nearest(word.vector, 3))\n",
    "        output.append(new_word)\n",
    "    else:\n",
    "        output.append(word.text)\n",
    "    output.append(word.whitespace_)\n",
    "print(''.join(output))\n"
   ]
  },
  {
   "cell_type": "code",
   "execution_count": 44,
   "id": "789cb889",
   "metadata": {},
   "outputs": [],
   "source": [
    " target_word = 'minimalist'\n",
    "factor = 0.6"
   ]
  },
  {
   "cell_type": "code",
   "execution_count": 45,
   "id": "e87e903e",
   "metadata": {},
   "outputs": [
    {
     "name": "stdout",
     "output_type": "stream",
     "text": [
      "Hisao Hanafusa (b. 1937) was built in Miyakonojō, a interior at the western brush of Japan. After makeover from the Kyoto University of Fine Arts, he relocated to New York City in 1963, where he redesigned an distinctive fashionable in the styling makeover styles. Most notably, his aesthetics was makeover in four blinding lighting at the Guggenheim Museum in the 70s and 80s. Hanafusa is both an sophistication minimalist styles and a style craftsmen of fashions styles furnishings. His versatility makeover makeover from style distinctive style with minimalist interior aesthetics, which styling a makeover stylistic for the styling of fashionable contemporaries style. \n",
      "\n",
      " \n",
      "Hanafusa’s minimalist can be roughly blending into two flores: his lightweight minimalist from the ironing styling modernist, and his compliments minimalist, which he has versed on since the 2000s. designs from the styling branding, which combines aluminium painless and paint on makeover, sharia flores aesthetics design with the Minimalists, for both were a forms of styling and a highlighting to the makeover styling of makeover of the lifestyle; for Hanafusa, this styling the sophisticated style styles style that he flattering from his blinding designing in Japan, in designs to the makeover designs of styling Modernism he blending after refining in the States. \n",
      "\n",
      "\n",
      "The techniques makeover further creating workable makeover from Hanafusa’s minimalist interiors, and contrasted a stylistic stylistic minimalist styling in his makeover styling. design makeover as gardening, styling, and compliments are minimalist through the styling of styling-flattering styling lightweight makeover, Hanafusa’s sophisticated aesthetics. This matching branding combining two series: makeover stylistic minimalist (Uchuiden Kioku) and Fifth Dimension. Hanafusa fashionable that all aesthetics aesthetics are sophistication through uchuiden, or their fashions, fashionable minimalist of the cosmos, a aesthetics that styling as the stylistic designing of his styling stylistic Memory feature. The Fifth Dimension features minimalist his refining of the minimalist of his matching makeover (minimalist makeover), and the aesthetic minimalist it styling. makeover beyond the styles of contrasted, minimalist, and the stylistic of complexity, Hanafusa’s styling of the minimalist style minimalist from the three textures of space, and the style designs of lifestyle; it styling into a fashionable, fashionable wearable in fashions to generalization the makeover of minimalist. \n",
      "\n",
      " \n",
      " \n",
      "\n",
      " \n"
     ]
    }
   ],
   "source": [
    "output = []\n",
    "for word in bio:\n",
    "    if word.is_alpha and word.pos_ in ('NOUN', 'VERB', 'ADJ'):\n",
    "        new_word = random.choice(\n",
    "            lookup.nearest((word.vector*(1-factor)) + (vec(target_word)*factor), 5))\n",
    "        output.append(new_word)\n",
    "    else:\n",
    "        output.append(word.text)\n",
    "    output.append(word.whitespace_)\n",
    "print(''.join(output))"
   ]
  },
  {
   "cell_type": "code",
   "execution_count": null,
   "id": "1db71f28",
   "metadata": {},
   "outputs": [],
   "source": []
  },
  {
   "cell_type": "code",
   "execution_count": null,
   "id": "ca8730c3",
   "metadata": {},
   "outputs": [],
   "source": []
  }
 ],
 "metadata": {
  "kernelspec": {
   "display_name": "Python 3 (ipykernel)",
   "language": "python",
   "name": "python3"
  },
  "language_info": {
   "codemirror_mode": {
    "name": "ipython",
    "version": 3
   },
   "file_extension": ".py",
   "mimetype": "text/x-python",
   "name": "python",
   "nbconvert_exporter": "python",
   "pygments_lexer": "ipython3",
   "version": "3.9.13"
  }
 },
 "nbformat": 4,
 "nbformat_minor": 5
}
