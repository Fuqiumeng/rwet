{
 "cells": [
  {
   "cell_type": "code",
   "execution_count": 1,
   "id": "99ad5df4",
   "metadata": {},
   "outputs": [],
   "source": [
    "wittgenstein = open(\"Wittgenstein.txt\").read()"
   ]
  },
  {
   "cell_type": "code",
   "execution_count": 2,
   "id": "e17d1097",
   "metadata": {},
   "outputs": [],
   "source": [
    "rilke = open(\"Rilke.txt\").read()"
   ]
  },
  {
   "cell_type": "code",
   "execution_count": null,
   "id": "cd045466",
   "metadata": {},
   "outputs": [],
   "source": []
  },
  {
   "cell_type": "code",
   "execution_count": null,
   "id": "a161ae8d",
   "metadata": {},
   "outputs": [],
   "source": []
  },
  {
   "cell_type": "code",
   "execution_count": 3,
   "id": "987fce50",
   "metadata": {},
   "outputs": [
    {
     "data": {
      "text/plain": [
       "['There is indeed the inexpressible.',\n",
       " 'This shows itself;',\n",
       " 'it is the mystical.',\n",
       " 'The right method of philosophy would be this.',\n",
       " 'To say nothing except what can be said,',\n",
       " 'the propositions of natural science,',\n",
       " 'something that has nothing to do with philosophy:',\n",
       " 'and then always,',\n",
       " 'when someone else wished to say something metaphysical,',\n",
       " 'to demonstrate to him that he had given no meaning to certain signs in his propositions.',\n",
       " 'This method would be unsatisfying to the other',\n",
       " 'he would not have the feeling that we were teaching him philosophy',\n",
       " 'but it would be the only strictly correct method.',\n",
       " 'My propositions are elucidatory in this way:',\n",
       " 'he who understands me finally recognizes them as senseless,',\n",
       " 'when he has climbed out through them,',\n",
       " 'on them,',\n",
       " 'over them.',\n",
       " 'He must so to speak throw away the ladder',\n",
       " 'after he has climbed up on it.',\n",
       " 'He must surmount these propositions;',\n",
       " 'then he sees the world rightly.',\n",
       " 'Whereof one cannot speak,',\n",
       " 'thereof one must be silent.',\n",
       " '']"
      ]
     },
     "execution_count": 3,
     "metadata": {},
     "output_type": "execute_result"
    }
   ],
   "source": [
    "[line.strip() for line in open(\"wittgenstein.txt\")]"
   ]
  },
  {
   "cell_type": "code",
   "execution_count": 4,
   "id": "03d37b08",
   "metadata": {},
   "outputs": [
    {
     "data": {
      "text/plain": [
       "['Therefore, my dear friend,',\n",
       " 'I know of no other advice than this:',\n",
       " 'Go within and scale the depths of your being from which your very life springs forth.',\n",
       " 'At its source you will find the answer to the question, whether you must write.',\n",
       " 'Accept it,',\n",
       " 'however it sounds to you,',\n",
       " 'without analyzing.',\n",
       " 'Perhaps it will become apparent to you that you are indeed called to be a writer.',\n",
       " 'Then accept that fate;',\n",
       " 'bear its burden,',\n",
       " 'and its grandeur,',\n",
       " 'without asking for the reward,',\n",
       " 'which might possibly come from without.',\n",
       " 'For the creative artist must be a world of his own and must find everything within himself and in nature,',\n",
       " 'to which he has betrothed himself.',\n",
       " 'It is possible that,',\n",
       " 'even after your descent into your inner self and into your secret place of solitude,',\n",
       " 'you might find that you must give up becoming a poet.',\n",
       " 'As I have said,',\n",
       " 'to feel that one could live without writing is enough indication that,',\n",
       " 'in fact, one should not.',\n",
       " 'Even then this process of turning inward,',\n",
       " 'upon which I beg you to embark,',\n",
       " 'will not have been in vain.',\n",
       " 'Your life will no doubt from then on find its own paths.',\n",
       " 'That they will be good ones and rich and expansive',\n",
       " 'that I wish for you more than I can say.']"
      ]
     },
     "execution_count": 4,
     "metadata": {},
     "output_type": "execute_result"
    }
   ],
   "source": [
    "[line.strip() for line in open(\"rilke.txt\")]"
   ]
  },
  {
   "cell_type": "code",
   "execution_count": 5,
   "id": "8c4301ca",
   "metadata": {},
   "outputs": [],
   "source": [
    "rilkepoem=[line.strip() for line in open(\"Rilke.txt\")]"
   ]
  },
  {
   "cell_type": "code",
   "execution_count": 6,
   "id": "dc487668",
   "metadata": {},
   "outputs": [],
   "source": [
    "import random"
   ]
  },
  {
   "cell_type": "code",
   "execution_count": 7,
   "id": "1e24e381",
   "metadata": {},
   "outputs": [],
   "source": [
    "newril=random.sample(rilkepoem, 5)"
   ]
  },
  {
   "cell_type": "code",
   "execution_count": 8,
   "id": "27c9665e",
   "metadata": {},
   "outputs": [],
   "source": [
    "wittgensteinpoem=[line.strip() for line in open(\"Wittgenstein.txt\")]"
   ]
  },
  {
   "cell_type": "code",
   "execution_count": 9,
   "id": "343c3eef",
   "metadata": {},
   "outputs": [],
   "source": [
    "newwit=random.sample(wittgensteinpoem,6)"
   ]
  },
  {
   "cell_type": "code",
   "execution_count": 10,
   "id": "f563526f",
   "metadata": {},
   "outputs": [],
   "source": [
    "draft=newril+newwit"
   ]
  },
  {
   "cell_type": "code",
   "execution_count": null,
   "id": "eaa63218",
   "metadata": {},
   "outputs": [],
   "source": []
  },
  {
   "cell_type": "code",
   "execution_count": 11,
   "id": "3e7c184b",
   "metadata": {},
   "outputs": [],
   "source": [
    "poem=random.sample(draft,11)"
   ]
  },
  {
   "cell_type": "code",
   "execution_count": 12,
   "id": "8ebccd4d",
   "metadata": {},
   "outputs": [
    {
     "name": "stdout",
     "output_type": "stream",
     "text": [
      "To say nothing except what can be said,\n",
      "Therefore, my dear friend,\n",
      "There is indeed the inexpressible.\n",
      "over them.\n",
      "My propositions are elucidatory in this way:\n",
      "but it would be the only strictly correct method.\n",
      "in fact, one should not.\n",
      "on them,\n",
      "Go within and scale the depths of your being from which your very life springs forth.\n",
      "to feel that one could live without writing is enough indication that,\n",
      "bear its burden,\n"
     ]
    }
   ],
   "source": [
    "print(\"\\n\".join(poem))"
   ]
  },
  {
   "cell_type": "code",
   "execution_count": null,
   "id": "94c298ed",
   "metadata": {},
   "outputs": [],
   "source": []
  }
 ],
 "metadata": {
  "kernelspec": {
   "display_name": "Python 3 (ipykernel)",
   "language": "python",
   "name": "python3"
  },
  "language_info": {
   "codemirror_mode": {
    "name": "ipython",
    "version": 3
   },
   "file_extension": ".py",
   "mimetype": "text/x-python",
   "name": "python",
   "nbconvert_exporter": "python",
   "pygments_lexer": "ipython3",
   "version": "3.9.13"
  }
 },
 "nbformat": 4,
 "nbformat_minor": 5
}
