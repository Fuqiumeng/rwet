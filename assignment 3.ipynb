{
 "cells": [
  {
   "cell_type": "code",
   "execution_count": 1,
   "id": "43c96b51",
   "metadata": {},
   "outputs": [
    {
     "name": "stdout",
     "output_type": "stream",
     "text": [
      "Requirement already satisfied: tracery in /Users/fuqiumeng/opt/anaconda3/lib/python3.9/site-packages (0.1.1)\r\n"
     ]
    }
   ],
   "source": [
    "import sys\n",
    "!{sys.executable} -m pip install tracery"
   ]
  },
  {
   "cell_type": "code",
   "execution_count": 2,
   "id": "441229a4",
   "metadata": {},
   "outputs": [],
   "source": [
    "import tracery"
   ]
  },
  {
   "cell_type": "code",
   "execution_count": 84,
   "id": "6a4fc326",
   "metadata": {},
   "outputs": [
    {
     "data": {
      "text/plain": [
       "'Sunshine upon the grass, possiblely Cold breeze inside the stream. Lift my hands I feel affection, Run my hands but I let go the facts.'"
      ]
     },
     "execution_count": 84,
     "metadata": {},
     "output_type": "execute_result"
    }
   ],
   "source": [
    "rules = {\n",
    "    \"origin\": \"#noun1# #adv1# #noun2#, #adv2# #noun1# #adv1# #noun2#. #verb# #bodypart# #humansense# #noun3#, #verb# #bodypart# #conjunction# #mythinking#.\",\n",
    "    \"noun1\": [\n",
    "        \"Moonlight\",\n",
    "        \"Cold breeze\",\n",
    "        \"Sunshine\",\n",
    "        \"Fragrance\",\n",
    "        \"Humid air\" ,\n",
    "        \"Ice cubes\"\n",
    "    ],\n",
    "    \n",
    "    \"noun2\": [\n",
    "        \"my lamps\",\n",
    "        \"her umberllas\",\n",
    "        \"his shoulders\",\n",
    "        \"their bookcase\",\n",
    "        \"the grass\",\n",
    "        \"your benches\",\n",
    "        \"ther beds\",\n",
    "        \"the mountains\",\n",
    "        \"the streams\"\n",
    "    ],\n",
    "    \n",
    "    \"adv1\": [\"through\", \"on\", \"inside\", \"under\", \"near\", \"upward\", \"upon\"],\n",
    "    \"adv2\": [\"perhaps\",\"maybe\",\"possiblely\",\"supposably\", \"plausibly\", \"tenably\"],\n",
    "    \"verb\": [\"Raise\", \"Lift\", \"Turn\", \"Jump\", \"Run\", \"Rest\", \"Lower\"],\n",
    "    \"bodypart\":[\"my head\", \"my eyes\", \"my nouse\", \"my legs\", \"my hands\", \"my ears\", \"my mouth\", \"my fingers\"],\n",
    "    \"conjunction\":[\"and\",\"but\",\"then\"],\n",
    "    \"mythinking\":[\"I miss my cats\", \"I doubt the realities\",\"I suspect the intentions\", \"I let go the facts\"],\n",
    "    \"humansense\" :[\"I feel\",\"She touches\",\"she senses\",\"I smell\",\"They hear\",\"I see\"],\n",
    "    \"noun3\":[\"depression\", \"excitment\",\"desire\", \"affection\",\"concern\"]\n",
    "    \n",
    "}\n",
    "grammar = tracery.Grammar(rules)\n",
    "grammar.flatten(\"#origin#\")"
   ]
  },
  {
   "cell_type": "code",
   "execution_count": null,
   "id": "50c787cc",
   "metadata": {},
   "outputs": [],
   "source": []
  },
  {
   "cell_type": "code",
   "execution_count": null,
   "id": "71902fcb",
   "metadata": {},
   "outputs": [],
   "source": []
  }
 ],
 "metadata": {
  "kernelspec": {
   "display_name": "Python 3 (ipykernel)",
   "language": "python",
   "name": "python3"
  },
  "language_info": {
   "codemirror_mode": {
    "name": "ipython",
    "version": 3
   },
   "file_extension": ".py",
   "mimetype": "text/x-python",
   "name": "python",
   "nbconvert_exporter": "python",
   "pygments_lexer": "ipython3",
   "version": "3.9.13"
  }
 },
 "nbformat": 4,
 "nbformat_minor": 5
}
